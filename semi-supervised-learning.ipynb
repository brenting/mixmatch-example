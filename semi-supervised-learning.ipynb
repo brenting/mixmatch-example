{
 "metadata": {
  "language_info": {
   "codemirror_mode": {
    "name": "ipython",
    "version": 3
   },
   "file_extension": ".py",
   "mimetype": "text/x-python",
   "name": "python",
   "nbconvert_exporter": "python",
   "pygments_lexer": "ipython3",
   "version": "3.8.5-final"
  },
  "orig_nbformat": 2,
  "kernelspec": {
   "name": "python3",
   "display_name": "Python 3.8.5 64-bit ('.venv')",
   "metadata": {
    "interpreter": {
     "hash": "bf8633e0b0761cc2077b17090ec1b725dba24241728f74d32cfbf1c4341ba7b7"
    }
   }
  }
 },
 "nbformat": 4,
 "nbformat_minor": 2,
 "cells": [
  {
   "cell_type": "code",
   "execution_count": 4,
   "metadata": {},
   "outputs": [],
   "source": [
    "import tensorflow as tf\n",
    "import tensorflow_datasets as tfds\n",
    "import pandas as pd\n",
    "\n",
    "from model import CNN\n",
    "from main import train, validate\n",
    "\n",
    "config = tf.compat.v1.ConfigProto()\n",
    "config.gpu_options.allow_growth = True\n",
    "session = tf.compat.v1.InteractiveSession(config=config)"
   ]
  },
  {
   "source": [
    "# Parameters"
   ],
   "cell_type": "markdown",
   "metadata": {}
  },
  {
   "cell_type": "code",
   "execution_count": 5,
   "metadata": {},
   "outputs": [],
   "source": [
    "args = {\n",
    "    'epochs': 10,                       # number of epochs\n",
    "    'batch_size': 64,                   # examples per batch (default: 64)\n",
    "    'learning_rate': 0.01,              # learning_rate, (default: 0.01)\n",
    "    'labelled_examples': 1,             # percentage labelled examples\n",
    "    'validation_examples': 20,          # percentage validation examples\n",
    "    'val_iteration': 800,               # number of batches before validation\n",
    "    'T': 0.5,                           # temperature sharpening ratio (default: 0.5)\n",
    "    'K': 2,                             # number of rounds of augmentation (default: 2)\n",
    "    'alpha': 0.75,                      # param for sampling from Beta distribution (default: 0.75)\n",
    "    'lambda_u': 100,                    # multiplier for unlabelled loss (default: 100)\n",
    "    'rampup_length': 8,                 # rampup length for unlabelled loss multiplier (default: 16)\n",
    "    'weight_decay': 0.02,               # decay rate for model vars (default: 0.02)\n",
    "    'ema_decay': 0.999,                 # ema decay for ema model vars (default: 0.999)\n",
    "}"
   ]
  },
  {
   "source": [
    "# Dataset"
   ],
   "cell_type": "markdown",
   "metadata": {}
  },
  {
   "cell_type": "code",
   "execution_count": 8,
   "metadata": {},
   "outputs": [
    {
     "output_type": "execute_result",
     "data": {
      "text/plain": [
       "            Training  Validation   Test\n",
       "Labelled         600       12000  10000\n",
       "Unlabelled     47400           0      0"
      ],
      "text/html": "<div>\n<style scoped>\n    .dataframe tbody tr th:only-of-type {\n        vertical-align: middle;\n    }\n\n    .dataframe tbody tr th {\n        vertical-align: top;\n    }\n\n    .dataframe thead th {\n        text-align: right;\n    }\n</style>\n<table border=\"1\" class=\"dataframe\">\n  <thead>\n    <tr style=\"text-align: right;\">\n      <th></th>\n      <th>Training</th>\n      <th>Validation</th>\n      <th>Test</th>\n    </tr>\n  </thead>\n  <tbody>\n    <tr>\n      <th>Labelled</th>\n      <td>600</td>\n      <td>12000</td>\n      <td>10000</td>\n    </tr>\n    <tr>\n      <th>Unlabelled</th>\n      <td>47400</td>\n      <td>0</td>\n      <td>0</td>\n    </tr>\n  </tbody>\n</table>\n</div>"
     },
     "metadata": {},
     "execution_count": 8
    }
   ],
   "source": [
    "train_labelled = tfds.load('mnist', split=f'train[0:{args[\"labelled_examples\"]}%]')\n",
    "train_unlabelled = tfds.load('mnist', split=f'train[{args[\"labelled_examples\"]}:{100-args[\"validation_examples\"]}%]')\n",
    "val_dataset = tfds.load('mnist', split=f'train[{100-args[\"validation_examples\"]}:100%]')\n",
    "test_dataset = tfds.load('mnist', split='test')\n",
    "\n",
    "pd.DataFrame({\"Training\": [len(train_labelled), len(train_unlabelled)], \"Validation\": [len(val_dataset), 0], \"Test\": [len(test_dataset), 0]}, index=[\"Labelled\", \"Unlabelled\"])"
   ]
  },
  {
   "source": [
    "# Model\n",
    "We creeren 2 identieke modellen, een normale en een \"Exponential Moving Average\" (EMA). De eerste wordt gebruikt om direct op te training, het EMA model is een moving average van het eerste model en kan als alternatief eindproduct gebruikt worden. Deze is minder gevoelig voor grote veranderingen aan het model. Beide modellen worden getest aan het eind."
   ],
   "cell_type": "markdown",
   "metadata": {}
  },
  {
   "cell_type": "code",
   "execution_count": 5,
   "metadata": {},
   "outputs": [],
   "source": [
    "# construct 2 versions of the same model\n",
    "model = CNN()\n",
    "ema_model = CNN()\n",
    "ema_model.set_weights(model.get_weights())\n",
    "\n",
    "model.build(input_shape=(None, 28, 28 ,1))\n",
    "ema_model.build(input_shape=(None, 28, 28 ,1))\n",
    "\n",
    "# choose the optimizer\n",
    "optimizer = tf.keras.optimizers.Adam(lr=args['learning_rate'])"
   ]
  },
  {
   "source": [
    "# Training\n",
    "We trainen voor een aantal epochs waarbij willekeurig door de trainigsdata wordt gelopen. Totaal worden er <val_iteration * batch_size> gelabelde en ongelabelde voorbeelden bekeken per epoch. Tussen de epochs door wordt zowel het EMA model als het normale model getest op de validatie set. "
   ],
   "cell_type": "markdown",
   "metadata": {}
  },
  {
   "cell_type": "code",
   "execution_count": 6,
   "metadata": {
    "tags": []
   },
   "outputs": [
    {
     "output_type": "display_data",
     "data": {
      "text/plain": "  0%|          | 0/800 [00:00<?, ?batch/s]",
      "application/vnd.jupyter.widget-view+json": {
       "version_major": 2,
       "version_minor": 0,
       "model_id": "9faa94ab20ef41aa9bf5dac6eaaa455f"
      }
     },
     "metadata": {}
    },
    {
     "output_type": "stream",
     "name": "stdout",
     "text": [
      "Epoch 0000: Validation EMA XE Loss: 2.4070, Validation EMA Accuracy: 13.900%\n",
      "Epoch 0000: Validation XE Loss: 0.3012, Validation Accuracy: 96.050%\n"
     ]
    },
    {
     "output_type": "display_data",
     "data": {
      "text/plain": "  0%|          | 0/800 [00:00<?, ?batch/s]",
      "application/vnd.jupyter.widget-view+json": {
       "version_major": 2,
       "version_minor": 0,
       "model_id": "d5583e576713436782bb1951fe290608"
      }
     },
     "metadata": {}
    },
    {
     "output_type": "stream",
     "name": "stdout",
     "text": [
      "Epoch 0001: Validation EMA XE Loss: 2.1021, Validation EMA Accuracy: 17.117%\n",
      "Epoch 0001: Validation XE Loss: 0.3077, Validation Accuracy: 96.317%\n"
     ]
    },
    {
     "output_type": "display_data",
     "data": {
      "text/plain": "  0%|          | 0/800 [00:00<?, ?batch/s]",
      "application/vnd.jupyter.widget-view+json": {
       "version_major": 2,
       "version_minor": 0,
       "model_id": "646149e399034ee5bf38f70b11c55cbe"
      }
     },
     "metadata": {}
    },
    {
     "output_type": "stream",
     "name": "stdout",
     "text": [
      "Epoch 0002: Validation EMA XE Loss: 0.5827, Validation EMA Accuracy: 83.308%\n",
      "Epoch 0002: Validation XE Loss: 0.2226, Validation Accuracy: 96.342%\n"
     ]
    },
    {
     "output_type": "display_data",
     "data": {
      "text/plain": "  0%|          | 0/800 [00:00<?, ?batch/s]",
      "application/vnd.jupyter.widget-view+json": {
       "version_major": 2,
       "version_minor": 0,
       "model_id": "d796d2869e3e42b5819d206864c50ea1"
      }
     },
     "metadata": {}
    },
    {
     "output_type": "stream",
     "name": "stdout",
     "text": [
      "Epoch 0003: Validation EMA XE Loss: 0.5510, Validation EMA Accuracy: 82.075%\n",
      "Epoch 0003: Validation XE Loss: 0.1889, Validation Accuracy: 96.925%\n"
     ]
    },
    {
     "output_type": "display_data",
     "data": {
      "text/plain": "  0%|          | 0/800 [00:00<?, ?batch/s]",
      "application/vnd.jupyter.widget-view+json": {
       "version_major": 2,
       "version_minor": 0,
       "model_id": "0943a4df3b5f488b97acdffaacbebaf6"
      }
     },
     "metadata": {}
    },
    {
     "output_type": "stream",
     "name": "stdout",
     "text": [
      "Epoch 0004: Validation EMA XE Loss: 0.1590, Validation EMA Accuracy: 97.533%\n",
      "Epoch 0004: Validation XE Loss: 0.1384, Validation Accuracy: 97.175%\n"
     ]
    },
    {
     "output_type": "display_data",
     "data": {
      "text/plain": "  0%|          | 0/800 [00:00<?, ?batch/s]",
      "application/vnd.jupyter.widget-view+json": {
       "version_major": 2,
       "version_minor": 0,
       "model_id": "08c648c7a163415aaaccdd6f0ec591d4"
      }
     },
     "metadata": {}
    },
    {
     "output_type": "stream",
     "name": "stdout",
     "text": [
      "Epoch 0005: Validation EMA XE Loss: 0.2019, Validation EMA Accuracy: 97.433%\n",
      "Epoch 0005: Validation XE Loss: 0.2133, Validation Accuracy: 96.300%\n"
     ]
    },
    {
     "output_type": "display_data",
     "data": {
      "text/plain": "  0%|          | 0/800 [00:00<?, ?batch/s]",
      "application/vnd.jupyter.widget-view+json": {
       "version_major": 2,
       "version_minor": 0,
       "model_id": "6775596018624277b81bc5d5ed48af7c"
      }
     },
     "metadata": {}
    },
    {
     "output_type": "stream",
     "name": "stdout",
     "text": [
      "Epoch 0006: Validation EMA XE Loss: 1.3287, Validation EMA Accuracy: 88.642%\n",
      "Epoch 0006: Validation XE Loss: 0.1599, Validation Accuracy: 97.633%\n"
     ]
    },
    {
     "output_type": "display_data",
     "data": {
      "text/plain": "  0%|          | 0/800 [00:00<?, ?batch/s]",
      "application/vnd.jupyter.widget-view+json": {
       "version_major": 2,
       "version_minor": 0,
       "model_id": "596aec546c794646a08e17745c3780cb"
      }
     },
     "metadata": {}
    },
    {
     "output_type": "stream",
     "name": "stdout",
     "text": [
      "Epoch 0007: Validation EMA XE Loss: 10.1088, Validation EMA Accuracy: 26.842%\n",
      "Epoch 0007: Validation XE Loss: 0.1378, Validation Accuracy: 97.417%\n"
     ]
    },
    {
     "output_type": "display_data",
     "data": {
      "text/plain": "  0%|          | 0/800 [00:00<?, ?batch/s]",
      "application/vnd.jupyter.widget-view+json": {
       "version_major": 2,
       "version_minor": 0,
       "model_id": "1e301d075a18439ab162fc3fcf4b6f2d"
      }
     },
     "metadata": {}
    },
    {
     "output_type": "stream",
     "name": "stdout",
     "text": [
      "Epoch 0008: Validation EMA XE Loss: 0.1778, Validation EMA Accuracy: 98.167%\n",
      "Epoch 0008: Validation XE Loss: 0.1148, Validation Accuracy: 97.617%\n"
     ]
    },
    {
     "output_type": "display_data",
     "data": {
      "text/plain": "  0%|          | 0/800 [00:00<?, ?batch/s]",
      "application/vnd.jupyter.widget-view+json": {
       "version_major": 2,
       "version_minor": 0,
       "model_id": "c2cd4bf618ce4833884743fafb0e9598"
      }
     },
     "metadata": {}
    },
    {
     "output_type": "stream",
     "name": "stdout",
     "text": [
      "Epoch 0009: Validation EMA XE Loss: 0.1338, Validation EMA Accuracy: 98.283%\n",
      "Epoch 0009: Validation XE Loss: 0.1271, Validation Accuracy: 97.583%\n"
     ]
    }
   ],
   "source": [
    "for epoch in range(args['epochs']):\n",
    "    train(train_labelled, train_unlabelled, model, ema_model, optimizer, epoch, args)\n",
    "    validate(val_dataset, ema_model, epoch, args, split='Validation EMA')\n",
    "    validate(val_dataset, model, epoch, args, split='Validation')\n"
   ]
  },
  {
   "source": [
    "# Test\n",
    "Uiteindelijk testen we het EMA model op de test dataset."
   ],
   "cell_type": "markdown",
   "metadata": {}
  },
  {
   "cell_type": "code",
   "execution_count": 7,
   "metadata": {},
   "outputs": [
    {
     "output_type": "stream",
     "name": "stdout",
     "text": [
      "Epoch 0009: Test XE Loss: 0.1304, Test Accuracy: 98.340%\n"
     ]
    }
   ],
   "source": [
    "validate(test_dataset, ema_model, epoch, args, split='Test')"
   ]
  }
 ]
}