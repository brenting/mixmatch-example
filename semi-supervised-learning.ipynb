{
 "metadata": {
  "language_info": {
   "codemirror_mode": {
    "name": "ipython",
    "version": 3
   },
   "file_extension": ".py",
   "mimetype": "text/x-python",
   "name": "python",
   "nbconvert_exporter": "python",
   "pygments_lexer": "ipython3",
   "version": "3.8.5-final"
  },
  "orig_nbformat": 2,
  "kernelspec": {
   "name": "python3",
   "display_name": "Python 3.8.5 64-bit ('.venv')",
   "metadata": {
    "interpreter": {
     "hash": "bf8633e0b0761cc2077b17090ec1b725dba24241728f74d32cfbf1c4341ba7b7"
    }
   }
  }
 },
 "nbformat": 4,
 "nbformat_minor": 2,
 "cells": [
  {
   "cell_type": "code",
   "execution_count": 1,
   "metadata": {},
   "outputs": [],
   "source": [
    "import tensorflow as tf\n",
    "import tensorflow_datasets as tfds\n",
    "import pandas as pd\n",
    "\n",
    "from scripts.model import CNN\n",
    "from scripts.main import train, validate\n",
    "\n",
    "config = tf.compat.v1.ConfigProto()\n",
    "config.gpu_options.allow_growth = True\n",
    "session = tf.compat.v1.InteractiveSession(config=config)"
   ]
  },
  {
   "source": [
    "# Parameters"
   ],
   "cell_type": "markdown",
   "metadata": {}
  },
  {
   "cell_type": "code",
   "execution_count": 2,
   "metadata": {},
   "outputs": [],
   "source": [
    "args = {\n",
    "    'epochs': 10,                       # number of epochs\n",
    "    'batch_size': 64,                   # examples per batch (default: 64)\n",
    "    'learning_rate': 0.01,              # learning_rate, (default: 0.01)\n",
    "    'labelled_examples': 1,             # percentage labelled examples\n",
    "    'validation_examples': 20,          # percentage validation examples\n",
    "    'val_iteration': 800,               # number of batches before validation\n",
    "    'T': 0.5,                           # temperature sharpening ratio (default: 0.5)\n",
    "    'K': 2,                             # number of rounds of augmentation (default: 2)\n",
    "    'alpha': 0.75,                      # param for sampling from Beta distribution (default: 0.75)\n",
    "    'lambda_u': 100,                    # multiplier for unlabelled loss (default: 100)\n",
    "    'rampup_length': 8,                 # rampup length for unlabelled loss multiplier (default: 16)\n",
    "    'weight_decay': 0.02,               # decay rate for model vars (default: 0.02)\n",
    "    'ema_decay': 0.999,                 # ema decay for ema model vars (default: 0.999)\n",
    "}"
   ]
  },
  {
   "source": [
    "# Dataset"
   ],
   "cell_type": "markdown",
   "metadata": {}
  },
  {
   "cell_type": "code",
   "execution_count": 3,
   "metadata": {},
   "outputs": [
    {
     "output_type": "execute_result",
     "data": {
      "text/plain": [
       "            Training  Validation   Test\n",
       "Labelled         600       12000  10000\n",
       "Unlabelled     47400           0      0"
      ],
      "text/html": "<div>\n<style scoped>\n    .dataframe tbody tr th:only-of-type {\n        vertical-align: middle;\n    }\n\n    .dataframe tbody tr th {\n        vertical-align: top;\n    }\n\n    .dataframe thead th {\n        text-align: right;\n    }\n</style>\n<table border=\"1\" class=\"dataframe\">\n  <thead>\n    <tr style=\"text-align: right;\">\n      <th></th>\n      <th>Training</th>\n      <th>Validation</th>\n      <th>Test</th>\n    </tr>\n  </thead>\n  <tbody>\n    <tr>\n      <th>Labelled</th>\n      <td>600</td>\n      <td>12000</td>\n      <td>10000</td>\n    </tr>\n    <tr>\n      <th>Unlabelled</th>\n      <td>47400</td>\n      <td>0</td>\n      <td>0</td>\n    </tr>\n  </tbody>\n</table>\n</div>"
     },
     "metadata": {},
     "execution_count": 3
    }
   ],
   "source": [
    "train_labelled = tfds.load('mnist', split=f'train[0:{args[\"labelled_examples\"]}%]')\n",
    "train_unlabelled = tfds.load('mnist', split=f'train[{args[\"labelled_examples\"]}:{100-args[\"validation_examples\"]}%]')\n",
    "val_dataset = tfds.load('mnist', split=f'train[{100-args[\"validation_examples\"]}:100%]')\n",
    "test_dataset = tfds.load('mnist', split='test')\n",
    "\n",
    "pd.DataFrame({\"Training\": [len(train_labelled), len(train_unlabelled)], \"Validation\": [len(val_dataset), 0], \"Test\": [len(test_dataset), 0]}, index=[\"Labelled\", \"Unlabelled\"])"
   ]
  },
  {
   "source": [
    "# Model\n",
    "We creeren 2 identieke modellen, een normale en een \"Exponential Moving Average\" (EMA). De eerste wordt gebruikt om direct op te training, het EMA model is een moving average van het eerste model en kan als alternatief eindproduct gebruikt worden. Deze is minder gevoelig voor grote veranderingen aan het model. Beide modellen worden getest aan het eind."
   ],
   "cell_type": "markdown",
   "metadata": {}
  },
  {
   "cell_type": "code",
   "execution_count": 4,
   "metadata": {},
   "outputs": [],
   "source": [
    "# construct 2 versions of the same model\n",
    "model = CNN()\n",
    "ema_model = CNN()\n",
    "ema_model.set_weights(model.get_weights())\n",
    "\n",
    "model.build(input_shape=(None, 28, 28 ,1))\n",
    "ema_model.build(input_shape=(None, 28, 28 ,1))\n",
    "\n",
    "# choose the optimizer\n",
    "optimizer = tf.keras.optimizers.Adam(lr=args['learning_rate'])"
   ]
  },
  {
   "source": [
    "# Training\n",
    "We trainen voor een aantal epochs waarbij willekeurig door de trainigsdata wordt gelopen. Totaal worden er <val_iteration * batch_size> gelabelde en ongelabelde voorbeelden bekeken per epoch. Tussen de epochs door wordt zowel het EMA model als het normale model getest op de validatie set. "
   ],
   "cell_type": "markdown",
   "metadata": {}
  },
  {
   "cell_type": "code",
   "execution_count": 5,
   "metadata": {
    "tags": []
   },
   "outputs": [
    {
     "output_type": "display_data",
     "data": {
      "text/plain": "  0%|          | 0/800 [00:00<?, ?batch/s]",
      "application/vnd.jupyter.widget-view+json": {
       "version_major": 2,
       "version_minor": 0,
       "model_id": "f9bb59873a7f423eba62f72066ecf9ce"
      }
     },
     "metadata": {}
    },
    {
     "output_type": "stream",
     "name": "stdout",
     "text": [
      "Epoch 0000: Validation EMA XE Loss: 9.5532, Validation EMA Accuracy: 9.975%\n",
      "Epoch 0000: Validation XE Loss: 0.2268, Validation Accuracy: 95.175%\n"
     ]
    },
    {
     "output_type": "display_data",
     "data": {
      "text/plain": "  0%|          | 0/800 [00:00<?, ?batch/s]",
      "application/vnd.jupyter.widget-view+json": {
       "version_major": 2,
       "version_minor": 0,
       "model_id": "fa5cd8e722ed4caf8bab3d909c5132f8"
      }
     },
     "metadata": {}
    },
    {
     "output_type": "stream",
     "name": "stdout",
     "text": [
      "Epoch 0001: Validation EMA XE Loss: 1.6563, Validation EMA Accuracy: 50.875%\n",
      "Epoch 0001: Validation XE Loss: 0.1890, Validation Accuracy: 96.858%\n"
     ]
    },
    {
     "output_type": "display_data",
     "data": {
      "text/plain": "  0%|          | 0/800 [00:00<?, ?batch/s]",
      "application/vnd.jupyter.widget-view+json": {
       "version_major": 2,
       "version_minor": 0,
       "model_id": "205839c7a3cb4d71b0f7e9761fb9316c"
      }
     },
     "metadata": {}
    },
    {
     "output_type": "stream",
     "name": "stdout",
     "text": [
      "Epoch 0002: Validation EMA XE Loss: 0.7110, Validation EMA Accuracy: 76.017%\n",
      "Epoch 0002: Validation XE Loss: 0.1850, Validation Accuracy: 96.358%\n"
     ]
    },
    {
     "output_type": "display_data",
     "data": {
      "text/plain": "  0%|          | 0/800 [00:00<?, ?batch/s]",
      "application/vnd.jupyter.widget-view+json": {
       "version_major": 2,
       "version_minor": 0,
       "model_id": "04def688390b47c1b880d094a462afb7"
      }
     },
     "metadata": {}
    },
    {
     "output_type": "stream",
     "name": "stdout",
     "text": [
      "Epoch 0003: Validation EMA XE Loss: 0.2332, Validation EMA Accuracy: 95.950%\n",
      "Epoch 0003: Validation XE Loss: 0.1119, Validation Accuracy: 98.008%\n"
     ]
    },
    {
     "output_type": "display_data",
     "data": {
      "text/plain": "  0%|          | 0/800 [00:00<?, ?batch/s]",
      "application/vnd.jupyter.widget-view+json": {
       "version_major": 2,
       "version_minor": 0,
       "model_id": "7d1798660b444588916bed9beb838787"
      }
     },
     "metadata": {}
    },
    {
     "output_type": "stream",
     "name": "stdout",
     "text": [
      "Epoch 0004: Validation EMA XE Loss: 0.1757, Validation EMA Accuracy: 97.133%\n",
      "Epoch 0004: Validation XE Loss: 0.1240, Validation Accuracy: 97.858%\n"
     ]
    },
    {
     "output_type": "display_data",
     "data": {
      "text/plain": "  0%|          | 0/800 [00:00<?, ?batch/s]",
      "application/vnd.jupyter.widget-view+json": {
       "version_major": 2,
       "version_minor": 0,
       "model_id": "69952f8fa8ea43dcbe2073644e23b189"
      }
     },
     "metadata": {}
    },
    {
     "output_type": "stream",
     "name": "stdout",
     "text": [
      "Epoch 0005: Validation EMA XE Loss: 0.1706, Validation EMA Accuracy: 97.492%\n",
      "Epoch 0005: Validation XE Loss: 0.1633, Validation Accuracy: 97.433%\n"
     ]
    },
    {
     "output_type": "display_data",
     "data": {
      "text/plain": "  0%|          | 0/800 [00:00<?, ?batch/s]",
      "application/vnd.jupyter.widget-view+json": {
       "version_major": 2,
       "version_minor": 0,
       "model_id": "1d965e1d0b0b48a28e6cde3379111cbb"
      }
     },
     "metadata": {}
    },
    {
     "output_type": "stream",
     "name": "stdout",
     "text": [
      "Epoch 0006: Validation EMA XE Loss: 0.2161, Validation EMA Accuracy: 97.875%\n",
      "Epoch 0006: Validation XE Loss: 0.0924, Validation Accuracy: 98.292%\n"
     ]
    },
    {
     "output_type": "display_data",
     "data": {
      "text/plain": "  0%|          | 0/800 [00:00<?, ?batch/s]",
      "application/vnd.jupyter.widget-view+json": {
       "version_major": 2,
       "version_minor": 0,
       "model_id": "af4d42bfc050423c92345ab204a84942"
      }
     },
     "metadata": {}
    },
    {
     "output_type": "stream",
     "name": "stdout",
     "text": [
      "Epoch 0007: Validation EMA XE Loss: 0.1323, Validation EMA Accuracy: 98.367%\n",
      "Epoch 0007: Validation XE Loss: 0.1103, Validation Accuracy: 98.025%\n"
     ]
    },
    {
     "output_type": "display_data",
     "data": {
      "text/plain": "  0%|          | 0/800 [00:00<?, ?batch/s]",
      "application/vnd.jupyter.widget-view+json": {
       "version_major": 2,
       "version_minor": 0,
       "model_id": "6a2ba58113b1404b8450050f359dfa20"
      }
     },
     "metadata": {}
    },
    {
     "output_type": "stream",
     "name": "stdout",
     "text": [
      "Epoch 0008: Validation EMA XE Loss: 0.1055, Validation EMA Accuracy: 98.475%\n",
      "Epoch 0008: Validation XE Loss: 0.1473, Validation Accuracy: 97.875%\n"
     ]
    },
    {
     "output_type": "display_data",
     "data": {
      "text/plain": "  0%|          | 0/800 [00:00<?, ?batch/s]",
      "application/vnd.jupyter.widget-view+json": {
       "version_major": 2,
       "version_minor": 0,
       "model_id": "1e7a7f52ad674d269cacb331f256b443"
      }
     },
     "metadata": {}
    },
    {
     "output_type": "stream",
     "name": "stdout",
     "text": [
      "Epoch 0009: Validation EMA XE Loss: 0.1491, Validation EMA Accuracy: 98.542%\n",
      "Epoch 0009: Validation XE Loss: 0.1184, Validation Accuracy: 97.608%\n"
     ]
    }
   ],
   "source": [
    "for epoch in range(args['epochs']):\n",
    "    train(train_labelled, train_unlabelled, model, ema_model, optimizer, epoch, args)\n",
    "    validate(val_dataset, ema_model, epoch, args, split='Validation EMA')\n",
    "    validate(val_dataset, model, epoch, args, split='Validation')\n"
   ]
  },
  {
   "source": [
    "# Test\n",
    "Uiteindelijk testen we beiden modellen op de test dataset."
   ],
   "cell_type": "markdown",
   "metadata": {}
  },
  {
   "cell_type": "code",
   "execution_count": 6,
   "metadata": {},
   "outputs": [
    {
     "output_type": "stream",
     "name": "stdout",
     "text": [
      "Epoch 0009: Test EMA XE Loss: 0.1466, Test EMA Accuracy: 98.570%\n",
      "Epoch 0009: Test XE Loss: 0.1159, Test Accuracy: 97.710%\n"
     ]
    }
   ],
   "source": [
    "validate(test_dataset, ema_model, epoch, args, split='Test EMA')\n",
    "validate(test_dataset, model, epoch, args, split='Test')"
   ]
  }
 ]
}